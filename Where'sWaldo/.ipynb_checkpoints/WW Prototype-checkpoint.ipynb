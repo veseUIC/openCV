{
 "cells": [
  {
   "cell_type": "code",
   "execution_count": 37,
   "metadata": {},
   "outputs": [],
   "source": [
    "import numpy as np\n",
    "import matplotlib.pyplot as plt\n",
    "import cv2"
   ]
  },
  {
   "cell_type": "code",
   "execution_count": 118,
   "metadata": {},
   "outputs": [],
   "source": [
    "#read and show image\n",
    "img = cv2.imread('img1.jpg',1) #img = cv2.imread('opencv-logo.png', 0) loads black and white; (1) yields default\n",
    "cv2.imshow('ww', img)\n",
    "cv2.waitKey(0)\n",
    "cv2.destroyAllWindows()"
   ]
  },
  {
   "cell_type": "code",
   "execution_count": 187,
   "metadata": {},
   "outputs": [],
   "source": [
    "#color filtering attempt: HSV is the most intuitive form for actual filtering!\n",
    "\n",
    "# H ='Hue', color;\n",
    "# S = 'Saturation', intensity;\n",
    "# V = 'Value', amount of light\n",
    "\n",
    "#hsv color conversion\n",
    "hsv = cv2.cvtColor(img, cv2.COLOR_BGR2HSV)\n",
    "\n",
    "#reds\n",
    "lower_red = np.array([0,150,0])\n",
    "upper_red = np.array([20,255,255])\n",
    "\n",
    "#whites\n",
    "white_min = np.array([0,0,255])\n",
    "white_max = np.array([255,30,255])\n",
    "\n",
    "#skin\n",
    "skin_min = np.array([0,0,0])\n",
    "skin_max = np.array([20,100,255])\n",
    "\n",
    "\n",
    "#create the color filters\n",
    "redMask = cv2.inRange(hsv, lower_red, upper_red)\n",
    "whiteMask = cv2.inRange(hsv, white_min, white_max)\n",
    "skinMask = cv2.inRange(hsv, skin_min, skin_max)\n",
    "\n",
    "#apply the filter\n",
    "white = cv2.bitwise_and(img, img, mask=whiteMask)\n",
    "red = cv2.bitwise_and(img, img, mask=redMask) #if the color pixel in range, return 1, else return 0\n",
    "skin = cv2.bitwise_and(img, img, mask=skinMask)\n",
    "\n",
    "#color dilation\n",
    "kernel = np.ones((2,2),'uint8')\n",
    "kernelE = np.ones((2,2),'uint8')\n",
    "white = cv2.dilate(white,kernel,iterations=2)\n",
    "red = cv2.dilate(red,kernel,iterations=1)\n",
    "\n",
    "skin = cv2.dilate(skin,kernel,iterations=1)\n",
    "skin = cv2.erode(skin,kernelE,iterations=1)\n",
    "\n",
    "#combine the color filters\n",
    "#result = red|white\n",
    "result = skin|red\n",
    "\n",
    "#cv2.imshow('orig', img)\n",
    "#cv2.imshow('white', white)\n",
    "#cv2.imshow('red', red)\n",
    "cv2.imshow('result',result)\n",
    "\n",
    "cv2.waitKey(0)\n",
    "cv2.destroyAllWindows()"
   ]
  },
  {
   "cell_type": "code",
   "execution_count": null,
   "metadata": {},
   "outputs": [],
   "source": []
  },
  {
   "cell_type": "code",
   "execution_count": 96,
   "metadata": {},
   "outputs": [
    {
     "name": "stdout",
     "output_type": "stream",
     "text": [
      "0.0880398154258728 (703, 99)\n"
     ]
    }
   ],
   "source": [
    "#template match attempt\n",
    "template = cv2.imread('ref.jpg', 0)\n",
    "template2 = cv2.imread('ref.jpg', 0)\n",
    "frame = cv2.imread('img1.jpg', 0)\n",
    "\n",
    "#cv2.imshow('ref', frame)\n",
    "#cv2.imshow('template', template)\n",
    "\n",
    "#the template matching\n",
    "result = cv2.matchTemplate(frame, template2, cv2.TM_CCOEFF_NORMED)\n",
    "\n",
    "#getting the maximum brightness\n",
    "min_val, max_val, min_loc, max_loc = cv2.minMaxLoc(result)\n",
    "print(max_val, max_loc)\n",
    "cv2.circle(result, max_loc, 15, 255, 2)\n",
    "\n",
    "frame = cv2.circle(frame, max_loc, 15, (120,50,255), 20)\n",
    "#image = cv2.circle(image, center_coordinates, radius, color, thickness)\n",
    "\n",
    "cv2.imshow('matching', result)\n",
    "#cv2.imshow('matchFrame', frame)\n",
    "cv2.waitKey(0)\n",
    "cv2.destroyAllWindows()"
   ]
  },
  {
   "cell_type": "code",
   "execution_count": null,
   "metadata": {},
   "outputs": [],
   "source": []
  }
 ],
 "metadata": {
  "kernelspec": {
   "display_name": "Python 3",
   "language": "python",
   "name": "python3"
  },
  "language_info": {
   "codemirror_mode": {
    "name": "ipython",
    "version": 3
   },
   "file_extension": ".py",
   "mimetype": "text/x-python",
   "name": "python",
   "nbconvert_exporter": "python",
   "pygments_lexer": "ipython3",
   "version": "3.8.5"
  }
 },
 "nbformat": 4,
 "nbformat_minor": 4
}
