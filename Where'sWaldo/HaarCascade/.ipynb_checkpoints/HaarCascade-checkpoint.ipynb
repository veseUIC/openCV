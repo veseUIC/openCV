{
 "cells": [
  {
   "cell_type": "code",
   "execution_count": 3,
   "metadata": {},
   "outputs": [
    {
     "data": {
      "text/plain": [
       "-1"
      ]
     },
     "execution_count": 3,
     "metadata": {},
     "output_type": "execute_result"
    }
   ],
   "source": [
    "# Import OpenCV\n",
    "import cv2\n",
    "import os\n",
    "\n",
    "os.chdir(r\"C:\\Users\\Alex\\Desktop\\Programming\\Python\\Projects\\VESE\\openCV\\Where'sWaldo\\HaarCascade\\WhereIsWally\\Code\")\n",
    "\n",
    "# Image file, the image we are going to try and detect Waldo\n",
    "#IMAGE_FILE = './Where_is_Wally.jpg'\n",
    "#IMAGE_FILE = './img2.jpg'\n",
    "\n",
    "# Set our cascade classifier we created earlier\n",
    "CASCADE_FILE = './classifier/cascade.xml'\n",
    "\n",
    "# Load image file\n",
    "image = cv2.imread(IMAGE_FILE)\n",
    "\n",
    "# Load our cascade file\n",
    "cascade = cv2.CascadeClassifier(CASCADE_FILE)\n",
    "\n",
    "# Detect \"Waldo-like\" objects and put rectangles around them\n",
    "# The scaleFactor and minNeighbors are very important to tune the detection\n",
    "rectangles = cascade.detectMultiScale(image, scaleFactor=1.105, minNeighbors=18,\n",
    "minSize=(25, 25), maxSize=(50,50))\n",
    "\n",
    "\n",
    "for (i, (x, y, w, h)) in enumerate(rectangles):\n",
    "    # Surround cascade with rectangle\n",
    "    cv2.rectangle(image, (x, y), (x + w, y + h), (255,0,0), 2)\n",
    "    font = cv2.FONT_HERSHEY_SIMPLEX\n",
    "    cv2.putText(image, \"Wally detected!\", (x - 100, y - 10), cv2.FONT_HERSHEY_SIMPLEX, 1.5, (255,0,0), 2)\n",
    "\n",
    "# Display the image with the detection\n",
    "cv2.imshow(\"Where is Waldo?\", image)\n",
    "cv2.waitKey(0)"
   ]
  },
  {
   "cell_type": "code",
   "execution_count": null,
   "metadata": {},
   "outputs": [],
   "source": []
  }
 ],
 "metadata": {
  "kernelspec": {
   "display_name": "Python 3",
   "language": "python",
   "name": "python3"
  },
  "language_info": {
   "codemirror_mode": {
    "name": "ipython",
    "version": 3
   },
   "file_extension": ".py",
   "mimetype": "text/x-python",
   "name": "python",
   "nbconvert_exporter": "python",
   "pygments_lexer": "ipython3",
   "version": "3.8.5"
  }
 },
 "nbformat": 4,
 "nbformat_minor": 4
}
