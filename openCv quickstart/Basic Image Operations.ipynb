{
 "cells": [
  {
   "cell_type": "code",
   "execution_count": 2,
   "metadata": {},
   "outputs": [],
   "source": [
    "import numpy as np\n",
    "import matplotlib.pyplot as plt\n",
    "import cv2"
   ]
  },
  {
   "cell_type": "markdown",
   "metadata": {},
   "source": [
    "# Access and Understand Pixel Data"
   ]
  },
  {
   "cell_type": "code",
   "execution_count": 3,
   "metadata": {},
   "outputs": [
    {
     "data": {
      "text/plain": [
       "<matplotlib.image.AxesImage at 0x25d3cc87580>"
      ]
     },
     "execution_count": 3,
     "metadata": {},
     "output_type": "execute_result"
    },
    {
     "data": {
      "image/png": "[encoded data removed]",
      "text/plain": [
       "<Figure size 432x288 with 1 Axes>"
      ]
     },
     "metadata": {
      "needs_background": "light"
     },
     "output_type": "display_data"
    }
   ],
   "source": [
    "#read and show image\n",
    "img = cv2.imread('opencv-logo.png') #img = cv2.imread('opencv-logo.png', 0) loads black and white; (1) yields default\n",
    "plt.imshow(img)"
   ]
  },
  {
   "cell_type": "code",
   "execution_count": 4,
   "metadata": {},
   "outputs": [],
   "source": [
    "#alternate: show image in seperate window\n",
    "cv2.imshow(\"logo\", img)\n",
    "cv2.waitKey(0)\n",
    "cv2.destroyAllWindows()"
   ]
  },
  {
   "cell_type": "code",
   "execution_count": null,
   "metadata": {},
   "outputs": [],
   "source": [
    "#save the image\n",
    "cv2.imwrite('testSave.jpg',img)"
   ]
  },
  {
   "cell_type": "code",
   "execution_count": 5,
   "metadata": {},
   "outputs": [
    {
     "name": "stdout",
     "output_type": "stream",
     "text": [
      "<class 'numpy.ndarray'>\n",
      "739\n",
      "600\n",
      "3\n",
      "(739, 600, 3)\n",
      "uint8\n",
      "1330200\n"
     ]
    }
   ],
   "source": [
    "#image info\n",
    "print(type(img))\n",
    "print(len(img)) #number of rows in image\n",
    "print(len(img[0])) #number of columns in image\n",
    "print(len(img[0][0])) #number of channels in image (RGB)\n",
    "print(img.shape) #aggregate stats of image\n",
    "print(img.dtype) #data type of an image\n",
    "print(img.size) #total # of pixels in image"
   ]
  },
  {
   "cell_type": "code",
   "execution_count": null,
   "metadata": {},
   "outputs": [],
   "source": [
    "#we can now access our pixels using indexing and slices\n",
    "print(img[10,5]) #one single pixel\n",
    "print(img[:,:,0]) #one single channel"
   ]
  },
  {
   "cell_type": "code",
   "execution_count": null,
   "metadata": {},
   "outputs": [],
   "source": [
    "plt.imshow(img[:,:,2]) #RGB, channels 0,1,2 respectively"
   ]
  },
  {
   "cell_type": "markdown",
   "metadata": {},
   "source": [
    "# Data types and structures"
   ]
  },
  {
   "cell_type": "code",
   "execution_count": null,
   "metadata": {},
   "outputs": [],
   "source": [
    "#show user created image: it's just a black square\n",
    "black = np.zeros([150,200,1],'uint8') #unsigned 8 bit has max of 255, this would be white color\n",
    "cv2.imshow('black', black)\n",
    "cv2.waitKey(0)\n",
    "cv2.destroyAllWindows()\n",
    "print(black[0,0,:]) #result of 1 pixel"
   ]
  },
  {
   "cell_type": "code",
   "execution_count": null,
   "metadata": {},
   "outputs": [],
   "source": [
    "ones = np.zeros([150,200,3],'uint8')\n",
    "cv2.imshow('ones', ones)\n",
    "cv2.waitKey(0)\n",
    "cv2.destroyAllWindows()\n",
    "print(ones[0,0,:])"
   ]
  },
  {
   "cell_type": "code",
   "execution_count": null,
   "metadata": {},
   "outputs": [],
   "source": [
    "white = np.ones([150,200,3], 'uint16')\n",
    "white *= (2**16-1) #multiply every pixel by max value (white is pixel array), ** means power!\n",
    "cv2.imshow('white', white)\n",
    "cv2.waitKey(0)\n",
    "cv2.destroyAllWindows()\n",
    "print(white[0,0,:])"
   ]
  },
  {
   "cell_type": "code",
   "execution_count": null,
   "metadata": {},
   "outputs": [],
   "source": [
    "color = ones.copy() #create a deep copy of the ones image\n",
    "color[:,:] = (255,0,0) #set all pixels in image to blue (BGR format!)\n",
    "cv2.imshow('blue', color)\n",
    "cv2.waitKey(0)\n",
    "cv2.destroyAllWindows()\n",
    "print(color[0,0,:])\n",
    "\n",
    "#important note: we don't want to use nested for loops for processing\n",
    "#rather we go for slicing and index operations always!"
   ]
  },
  {
   "cell_type": "markdown",
   "metadata": {},
   "source": [
    "# Image types and color channels"
   ]
  },
  {
   "cell_type": "code",
   "execution_count": 6,
   "metadata": {},
   "outputs": [
    {
     "name": "stdout",
     "output_type": "stream",
     "text": [
      "(356, 493, 3)\n"
     ]
    }
   ],
   "source": [
    "color = cv2.imread('butterfly.jpg')\n",
    "cv2.imshow('image',color)\n",
    "cv2.waitKey(0)\n",
    "cv2.destroyAllWindows()\n",
    "print(color.shape)\n",
    "height,width,channels = color.shape #shape returns 3 elements!"
   ]
  },
  {
   "cell_type": "code",
   "execution_count": 7,
   "metadata": {},
   "outputs": [],
   "source": [
    "b,g,r = cv2.split(color)\n",
    "rgb_split = np.empty([height,width*3,3],'uint8') #we will create a frame of size 3x a single image\n",
    "rgb_split[:,0:width] = cv2.merge([b,b,b]) #we put the color channels into each range: blue\n",
    "rgb_split[:,width:width*2] = cv2.merge([g,g,g]) #green\n",
    "rgb_split[:,width*2:width*3] = cv2.merge([r,r,r]) #red\n",
    "cv2.imshow('image',rgb_split)\n",
    "cv2.waitKey(0)\n",
    "cv2.destroyAllWindows()"
   ]
  },
  {
   "cell_type": "code",
   "execution_count": 8,
   "metadata": {},
   "outputs": [],
   "source": [
    "hsv = cv2.cvtColor(color, cv2.COLOR_BGR2HSV) #hsv: hue, saturation, value\n",
    "h,s,v = cv2.split(hsv)\n",
    "hsv_split = np.concatenate((h,s,v),axis=1)\n",
    "cv2.imshow('split_hsv',hsv_split)\n",
    "cv2.waitKey(0)\n",
    "cv2.destroyAllWindows()"
   ]
  },
  {
   "cell_type": "markdown",
   "metadata": {},
   "source": [
    "# Pixel Manipulation and Filtering"
   ]
  },
  {
   "cell_type": "code",
   "execution_count": 11,
   "metadata": {},
   "outputs": [
    {
     "data": {
      "text/plain": [
       "True"
      ]
     },
     "execution_count": 11,
     "metadata": {},
     "output_type": "execute_result"
    }
   ],
   "source": [
    "color = cv2.imread('butterfly.jpg',1)\n",
    "gray = cv2.cvtColor(color, cv2.COLOR_RGB2GRAY)\n",
    "cv2.imwrite('gray.jpg',gray)"
   ]
  },
  {
   "cell_type": "code",
   "execution_count": 10,
   "metadata": {},
   "outputs": [
    {
     "data": {
      "text/plain": [
       "True"
      ]
     },
     "execution_count": 10,
     "metadata": {},
     "output_type": "execute_result"
    }
   ],
   "source": [
    "#adding a channel for transparency (alpha channel), this is pretty much COLOR FILTERING!\n",
    "b = color[:,:,0]\n",
    "g = color[:,:,1]\n",
    "r = color[:,:,2]\n",
    "\n",
    "rgba = cv2.merge((b,g,r,g)) #g will be passed in as the transparency channel: high values in the g channel not transparent\n",
    "cv2.imwrite('rgba.png',rgba) #only png will retain transparency; not jpg!\n",
    "\n",
    "#note python's native image viewer does not support transparency so you have to view image manually!"
   ]
  },
  {
   "cell_type": "markdown",
   "metadata": {},
   "source": [
    "# Gaussian Blur, Dilation, and Erosion"
   ]
  },
  {
   "cell_type": "code",
   "execution_count": 12,
   "metadata": {},
   "outputs": [],
   "source": [
    "#usually used for image preprocessing!\n",
    "image = cv2.imread('thresh.jpg')\n",
    "cv2.imshow('original',image)\n",
    "\n",
    "blur = cv2.GaussianBlur(image, (5,55), 0) #blurring command\n",
    "cv2.imshow('Blur',blur)\n",
    "\n",
    "#dilation and erosion\n",
    "kernel = np.ones((5,5),'uint8')\n",
    "dilate = cv2.dilate(image,kernel,iterations=1) #gives more white, adding\n",
    "erode = cv2.erode(image,kernel,iterations=1) #gives more black, subtracting\n",
    "cv2.imshow('dilate',dilate)\n",
    "cv2.imshow('erode',erode)\n",
    "\n",
    "cv2.waitKey(0)\n",
    "cv2.destroyAllWindows()"
   ]
  },
  {
   "cell_type": "markdown",
   "metadata": {},
   "source": [
    "# Scaling and Rotating Images"
   ]
  },
  {
   "cell_type": "code",
   "execution_count": null,
   "metadata": {},
   "outputs": [],
   "source": [
    "img = cv2.imread('players.jpg',1)\n",
    "\n",
    "#scaling\n",
    "img_half = cv2.resize(img, (0,0), fx=0.5, fy=0.5) #(0,0) means not to set an absolute size; fx & fy are relative factors\n",
    "img_stretch = cv2.resize(img, (600,600))\n",
    "img_stretch_near = cv2.resize(img, (600,600), interpolation=cv2.INTER_NEAREST)\n",
    "\n",
    "cv2.imshow('half',img_half)\n",
    "cv2.imshow('strech',img_stretch)\n",
    "cv2.imshow('near_stretch',img_stretch_near)\n",
    "\n",
    "cv2.waitKey(0)\n",
    "cv2.destroyAllWindows()\n",
    "\n",
    "#rotation: accomplished by applying a matrix transformation\n",
    "M = cv2.getRotationMatrix2D((0,0), -30, 1) #(0,0) is origin, -30 is degrees, and need value 1\n",
    "rotated = cv2.warpAffine(img, M, (img.shape[1], img.shape[0]))\n",
    "cv2.imshow('rotated', rotated)\n",
    "\n",
    "cv2.waitKey(0)\n",
    "cv2.destroyAllWindows()"
   ]
  },
  {
   "cell_type": "markdown",
   "metadata": {},
   "source": [
    "# Use video inputs"
   ]
  },
  {
   "cell_type": "code",
   "execution_count": 17,
   "metadata": {},
   "outputs": [
    {
     "ename": "error",
     "evalue": "OpenCV(4.5.1) C:\\Users\\appveyor\\AppData\\Local\\Temp\\1\\pip-req-build-kh7iq4w7\\opencv\\modules\\imgproc\\src\\smooth.dispatch.cpp:294: error: (-215:Assertion failed) ksize.width > 0 && ksize.width % 2 == 1 && ksize.height > 0 && ksize.height % 2 == 1 in function 'cv::createGaussianKernels'\n",
     "output_type": "error",
     "traceback": [
      "\u001b[1;31m---------------------------------------------------------------------------\u001b[0m",
      "\u001b[1;31merror\u001b[0m                                     Traceback (most recent call last)",
      "\u001b[1;32m<ipython-input-17-4a54a685f930>\u001b[0m in \u001b[0;36m<module>\u001b[1;34m\u001b[0m\n\u001b[0;32m     15\u001b[0m \u001b[1;33m\u001b[0m\u001b[0m\n\u001b[0;32m     16\u001b[0m     \u001b[1;31m#applying blur filter\u001b[0m\u001b[1;33m\u001b[0m\u001b[1;33m\u001b[0m\u001b[1;33m\u001b[0m\u001b[0m\n\u001b[1;32m---> 17\u001b[1;33m     \u001b[0mblur\u001b[0m \u001b[1;33m=\u001b[0m \u001b[0mcv2\u001b[0m\u001b[1;33m.\u001b[0m\u001b[0mGaussianBlur\u001b[0m\u001b[1;33m(\u001b[0m\u001b[0mframe\u001b[0m\u001b[1;33m,\u001b[0m \u001b[1;33m(\u001b[0m\u001b[1;36m2\u001b[0m\u001b[1;33m,\u001b[0m\u001b[1;36m2\u001b[0m\u001b[1;33m)\u001b[0m\u001b[1;33m,\u001b[0m \u001b[1;36m0\u001b[0m\u001b[1;33m)\u001b[0m \u001b[1;31m#blurring command\u001b[0m\u001b[1;33m\u001b[0m\u001b[1;33m\u001b[0m\u001b[0m\n\u001b[0m\u001b[0;32m     18\u001b[0m     \u001b[0mcv2\u001b[0m\u001b[1;33m.\u001b[0m\u001b[0mimshow\u001b[0m\u001b[1;33m(\u001b[0m\u001b[1;34m'Blur'\u001b[0m\u001b[1;33m,\u001b[0m\u001b[0mblur\u001b[0m\u001b[1;33m)\u001b[0m\u001b[1;33m\u001b[0m\u001b[1;33m\u001b[0m\u001b[0m\n\u001b[0;32m     19\u001b[0m \u001b[1;33m\u001b[0m\u001b[0m\n",
      "\u001b[1;31merror\u001b[0m: OpenCV(4.5.1) C:\\Users\\appveyor\\AppData\\Local\\Temp\\1\\pip-req-build-kh7iq4w7\\opencv\\modules\\imgproc\\src\\smooth.dispatch.cpp:294: error: (-215:Assertion failed) ksize.width > 0 && ksize.width % 2 == 1 && ksize.height > 0 && ksize.height % 2 == 1 in function 'cv::createGaussianKernels'\n"
     ]
    }
   ],
   "source": [
    "cap = cv2.VideoCapture(0) #request the camera\n",
    "while(True):\n",
    "    \n",
    "    ret, frame = cap.read()\n",
    "    frame = cv2.resize(frame, (0,0), fx=1, fy=1)\n",
    "    \n",
    "    #applying the erode filter\n",
    "    kernel = np.ones((3,3),'uint8')\n",
    "    #erode = cv2.erode(frame,kernel,iterations=10)\n",
    "    #cv2.imshow('Frame', erode)\n",
    "    \n",
    "    #applying dilation filter\n",
    "    #dilate = cv2.dilate(erode,kernel,iterations=5) #gives more white, adding\n",
    "    #cv2.imshow('Frame', dilate)\n",
    "    \n",
    "    #applying blur filter\n",
    "    #blur = cv2.GaussianBlur(frame, (2,2), 0) #blurring command\n",
    "    #cv2.imshow('Blur',blur)\n",
    "    \n",
    "    ch = cv2.waitKey(1) #wait key will run every 1 milisecond, so we can exit the loop\n",
    "    if (ch & 0xFF == ord('q')): #q is used to quit the loop\n",
    "        break\n",
    "        \n",
    "cap.release() #lets the camera go\n",
    "cv2.destroyAllWindows()"
   ]
  },
  {
   "cell_type": "markdown",
   "metadata": {},
   "source": [
    "# Create custom interfaces"
   ]
  },
  {
   "cell_type": "code",
   "execution_count": 18,
   "metadata": {},
   "outputs": [
    {
     "name": "stdout",
     "output_type": "stream",
     "text": [
      "Pressed 247 179\n",
      "Pressed 517 184\n",
      "Pressed 123 166\n",
      "Pressed 319 169\n",
      "Pressed 321 279\n",
      "Pressed 329 188\n",
      "Pressed 11 87\n",
      "Pressed 146 141\n",
      "Pressed 354 195\n",
      "Pressed 243 191\n",
      "Pressed 48 310\n",
      "Pressed 279 441\n",
      "Pressed 592 347\n",
      "Pressed 173 177\n",
      "Pressed 205 277\n",
      "Pressed 373 328\n",
      "Pressed 287 179\n",
      "Pressed 144 214\n",
      "Pressed 360 320\n",
      "Pressed 311 171\n"
     ]
    }
   ],
   "source": [
    "import numpy as np\n",
    "import cv2\n",
    "cap = cv2.VideoCapture(0) #request the camera\n",
    "\n",
    "color = (0,255,0)\n",
    "line_width = 3\n",
    "radius = 100\n",
    "point = (0,0)\n",
    "\n",
    "#have a mouse click event\n",
    "def click(event, x, y, flags, param):\n",
    "    global point, pressed\n",
    "    if event == cv2.EVENT_LBUTTONDOWN:\n",
    "        print('Pressed',x,y)\n",
    "        point = (x,y)\n",
    "\n",
    "#register click with openCV handler\n",
    "cv2.namedWindow('Frame')\n",
    "cv2.setMouseCallback('Frame', click)\n",
    "\n",
    "while(True):\n",
    "    ret, frame = cap.read()\n",
    "    frame = cv2.resize(frame, (0,0), fx=1, fy=1)\n",
    "    cv2.circle(frame, point, radius, color, line_width)\n",
    "    cv2.imshow('Frame', frame)\n",
    "    \n",
    "    ch = cv2.waitKey(1) #wait key will run every 1 milisecond, so we can exit the loop\n",
    "    if (ch & 0xFF == ord('q')): #q is used to quit the loop\n",
    "        break\n",
    "\n",
    "cap.release() #lets the camera go\n",
    "cv2.destroyAllWindows()"
   ]
  },
  {
   "cell_type": "code",
   "execution_count": null,
   "metadata": {},
   "outputs": [],
   "source": []
  }
 ],
 "metadata": {
  "kernelspec": {
   "display_name": "Python 3",
   "language": "python",
   "name": "python3"
  },
  "language_info": {
   "codemirror_mode": {
    "name": "ipython",
    "version": 3
   },
   "file_extension": ".py",
   "mimetype": "text/x-python",
   "name": "python",
   "nbconvert_exporter": "python",
   "pygments_lexer": "ipython3",
   "version": "3.8.5"
  }
 },
 "nbformat": 4,
 "nbformat_minor": 4
}
