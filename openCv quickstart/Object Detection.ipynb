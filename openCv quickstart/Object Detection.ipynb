{
 "cells": [
  {
   "cell_type": "code",
   "execution_count": null,
   "metadata": {},
   "outputs": [],
   "source": [
    "#segmentation and binary images\n",
    "    #image processing can start with converting the image to 1 and 0 representation -> binary image\n",
    "    #keep the 1s, disregard the 0s\n",
    "    #0s and 1s can be decided with thresholding"
   ]
  },
  {
   "cell_type": "code",
   "execution_count": 1,
   "metadata": {},
   "outputs": [],
   "source": [
    "import numpy as np\n",
    "import cv2"
   ]
  },
  {
   "cell_type": "markdown",
   "metadata": {},
   "source": [
    "# Simple Thresholding"
   ]
  },
  {
   "cell_type": "code",
   "execution_count": 2,
   "metadata": {},
   "outputs": [],
   "source": [
    "bw = cv2.imread('detect_blob.png',0)\n",
    "height, width = bw.shape[0:2]\n",
    "cv2.imshow('orig', bw)\n",
    "\n",
    "#1 channel binary image\n",
    "binary = np.zeros([height,width,1], 'uint8')\n",
    "thresh = 85\n",
    "\n",
    "#sweep through the image (slow way)\n",
    "for row in range(0, height):\n",
    "    for col in range(0, width):\n",
    "        if bw[row][col] > thresh:\n",
    "            binary[row][col] = 255\n",
    "            \n",
    "cv2.imshow('slow binary', binary)\n",
    "cv2.waitKey(0)\n",
    "cv2.destroyAllWindows()\n",
    "#image pieces that don't pass the threshold aren't included in result"
   ]
  },
  {
   "cell_type": "code",
   "execution_count": null,
   "metadata": {},
   "outputs": [],
   "source": [
    "#faster way\n",
    "ret, thresh = cv2.threshold(bw, thresh, 255, cv2.THRESH_BINARY)\n",
    "cv2.imshow('CV Thresh', thresh)\n",
    "cv2.waitKey(0)\n",
    "cv2.destroyAllWindows()"
   ]
  },
  {
   "cell_type": "markdown",
   "metadata": {},
   "source": [
    "# Adaptive Thresholding"
   ]
  },
  {
   "cell_type": "code",
   "execution_count": 3,
   "metadata": {},
   "outputs": [],
   "source": [
    "#can be used if there is uneven lighting in an image, can increase the versatilty of thresholding operations\n",
    "\n",
    "#0 means you only get black and white image, usually the norm during segmentation operations\n",
    "img = cv2.imread('sudoku.png',0)\n",
    "cv2.imshow('orig', img)\n",
    "\n",
    "#basic thresh chops through the sudoku lines :(\n",
    "ret, thresh_basic = cv2.threshold(img,70,255,cv2.THRESH_BINARY)\n",
    "cv2.imshow('basic binary', thresh_basic)\n",
    "\n",
    "#adptive thresholding\n",
    "thresh_adapt = cv2.adaptiveThreshold(img, 255, cv2.ADAPTIVE_THRESH_GAUSSIAN_C, cv2.THRESH_BINARY, 115, 1)\n",
    "cv2.imshow('adapt', thresh_adapt)\n",
    "#final speckels (artifacts) in image could be filtered out through erosion and dilation!\n",
    "\n",
    "cv2.waitKey(0)\n",
    "cv2.destroyAllWindows()"
   ]
  },
  {
   "cell_type": "markdown",
   "metadata": {},
   "source": [
    "# Skin Detection"
   ]
  },
  {
   "cell_type": "code",
   "execution_count": 4,
   "metadata": {},
   "outputs": [],
   "source": [
    "img = cv2.imread('faces.jpeg',1)\n",
    "img = cv2.resize(img, (0,0), fx=.15, fy=.15)\n",
    "hsv = cv2.cvtColor(img, cv2.COLOR_BGR2HSV)\n",
    "h = hsv[:,:,0]\n",
    "s = hsv[:,:,1]\n",
    "v = hsv[:,:,2]\n",
    "\n",
    "hsv_split = np.concatenate((h,s,v), axis=1)\n",
    "cv2.imshow('Split HSV',hsv_split)\n",
    "\n",
    "ret, min_sat = cv2.threshold(s,40,255,cv2.THRESH_BINARY)\n",
    "cv2.imshow('sat filter', min_sat)\n",
    "\n",
    "ret, max_hue = cv2.threshold(h,15,255,cv2.THRESH_BINARY_INV)\n",
    "cv2.imshow('Hue filter',max_hue)\n",
    "\n",
    "final = cv2.bitwise_and(min_sat,max_hue)\n",
    "cv2.imshow('final', final)\n",
    "\n",
    "cv2.waitKey(0)\n",
    "cv2.destroyAllWindows()"
   ]
  },
  {
   "cell_type": "markdown",
   "metadata": {},
   "source": [
    "# Contour Object Detection"
   ]
  },
  {
   "cell_type": "code",
   "execution_count": 6,
   "metadata": {},
   "outputs": [],
   "source": [
    "img = cv2.imread('detect_blob.png',1)\n",
    "gray = cv2.cvtColor(img, cv2.COLOR_RGB2GRAY)\n",
    "thresh = cv2.adaptiveThreshold(gray, 255, cv2.ADAPTIVE_THRESH_GAUSSIAN_C, cv2.THRESH_BINARY, 115, 1)\n",
    "cv2.imshow('binary', thresh)\n",
    "\n",
    "contours, hiearchy = cv2.findContours(thresh, cv2.RETR_TREE, cv2.CHAIN_APPROX_SIMPLE)\n",
    "img2 = img.copy()\n",
    "index = -1\n",
    "thickness = 4\n",
    "color = (255, 0, 255)\n",
    "cv2.drawContours(img2, contours, index, color, thickness)\n",
    "cv2.imshow('contours', img2)\n",
    "\n",
    "cv2.waitKey(0)\n",
    "cv2.destroyAllWindows()"
   ]
  },
  {
   "cell_type": "markdown",
   "metadata": {},
   "source": [
    "# Area, Perimeter, Center, and Curvature"
   ]
  },
  {
   "cell_type": "code",
   "execution_count": 8,
   "metadata": {},
   "outputs": [
    {
     "name": "stdout",
     "output_type": "stream",
     "text": [
      "Area: 86.5, perimeter: 45.55634891986847\n",
      "Area: 959.5, perimeter: 251.8406196832657\n",
      "Area: 13091.5, perimeter: 754.0416301488876\n",
      "Area: 10069.5, perimeter: 401.41421353816986\n",
      "Area: 7780.0, perimeter: 329.22034430503845\n",
      "Area: 4160.0, perimeter: 258.0\n",
      "Area: 1672.0, perimeter: 160.48528122901917\n",
      "Area: 14515.0, perimeter: 1225.768675327301\n",
      "Area: 6357.0, perimeter: 446.9116872549057\n",
      "Area: 7718.0, perimeter: 484.8284270763397\n",
      "Area: 4592.5, perimeter: 502.0315263271332\n",
      "Area: 5014.0, perimeter: 357.2792183160782\n",
      "Area: 5019.0, perimeter: 444.3675308227539\n",
      "Area: 8829.0, perimeter: 450.5929263830185\n",
      "Area: 108.0, perimeter: 41.79898953437805\n",
      "Area: 551.5, perimeter: 93.41421353816986\n",
      "Area: 2707.5, perimeter: 194.75230765342712\n",
      "Area: 1644.5, perimeter: 152.1248904466629\n",
      "Area: 767.0, perimeter: 105.74011433124542\n",
      "Area: 3501.5, perimeter: 251.0710676908493\n",
      "Area: 8556.0, perimeter: 345.70562493801117\n",
      "Area: 8868.0, perimeter: 378.8284270763397\n",
      "Area: 865.0, perimeter: 185.4558435678482\n",
      "Area: 1482.0, perimeter: 244.16652035713196\n",
      "Area: 747.0, perimeter: 102.9116872549057\n",
      "Area: 1638.0, perimeter: 152.36753034591675\n",
      "Area: 1.0, perimeter: 4114.82842707634\n"
     ]
    }
   ],
   "source": [
    "img = cv2.imread('detect_blob.png',1)\n",
    "gray = cv2.cvtColor(img, cv2.COLOR_RGB2GRAY)\n",
    "thresh = cv2.adaptiveThreshold(gray, 255, cv2.ADAPTIVE_THRESH_GAUSSIAN_C, cv2.THRESH_BINARY, 115, 1)\n",
    "cv2.imshow('binary', thresh)\n",
    "\n",
    "contours, hiearchy = cv2.findContours(thresh, cv2.RETR_TREE, cv2.CHAIN_APPROX_SIMPLE)\n",
    "img2 = img.copy()\n",
    "index = -1\n",
    "thickness = 4\n",
    "color = (255, 0, 255)\n",
    "\n",
    "objects = np.zeros([img.shape[0], img.shape[1], 3], 'uint8')\n",
    "#print(objects)\n",
    "\n",
    "for c in contours:\n",
    "    cv2.drawContours(objects, [c], -1, color, -1)\n",
    "    \n",
    "    area = cv2.contourArea(c)\n",
    "    perimeter = cv2.arcLength(c, True)\n",
    "    M = cv2.moments(c)\n",
    "    cx = int(M['m10']/M['m00'])\n",
    "    cy = int(M['m01']/M['m00'])\n",
    "    cv2.circle(objects, (cx, cy), 4, (0,0,255), -1)\n",
    "    print('Area: {}, perimeter: {}'.format(area,perimeter))\n",
    "\n",
    "cv2.imshow('contours', objects)\n",
    "\n",
    "cv2.waitKey(0)\n",
    "cv2.destroyAllWindows()"
   ]
  },
  {
   "cell_type": "markdown",
   "metadata": {},
   "source": [
    "# Canny Edge Detection"
   ]
  },
  {
   "cell_type": "code",
   "execution_count": 9,
   "metadata": {},
   "outputs": [],
   "source": [
    "import numpy as np\n",
    "import cv2"
   ]
  },
  {
   "cell_type": "code",
   "execution_count": 11,
   "metadata": {},
   "outputs": [],
   "source": [
    "img = cv2.imread('tomatoes.jpg', 1)\n",
    "cv2.imshow('orig', img)\n",
    "\n",
    "#fist going to see thresholding not work\n",
    "hsv = cv2.cvtColor(img, cv2.COLOR_BGR2HSV)\n",
    "res, thresh = cv2.threshold(hsv[:,:,0], 25, 255, cv2.THRESH_BINARY_INV)\n",
    "cv2.imshow('thresh', thresh)\n",
    "\n",
    "#canny edges\n",
    "edges = cv2.Canny(img, 100, 70)\n",
    "cv2.imshow('canny', edges)\n",
    "#canny edges have more noise, but do a better job of getting edges\n",
    "\n",
    "cv2.waitKey(0)\n",
    "cv2.destroyAllWindows()"
   ]
  },
  {
   "cell_type": "markdown",
   "metadata": {},
   "source": [
    "# Challenge: Assign object ID and attributes"
   ]
  },
  {
   "cell_type": "code",
   "execution_count": null,
   "metadata": {},
   "outputs": [
    {
     "name": "stdout",
     "output_type": "stream",
     "text": [
      "1952\n",
      "3\n",
      "4922.5 305.92387998104095\n",
      "29858.5 797.5706292390823\n",
      "17271.0 563.9655101299286\n"
     ]
    }
   ],
   "source": [
    "import random\n",
    "\n",
    "img = cv2.imread('fuzzy.png', 1)\n",
    "cv2.imshow('orig', img)\n",
    "#objectives: segment out the objects draw them on blank image, and print the perimeter and area\n",
    "# only draw large objects: area greater than 1000px2, each object should have its own color\n",
    "\n",
    "gray = cv2.cvtColor(img, cv2.COLOR_RGB2GRAY)\n",
    "blur = cv2.GaussianBlur(gray, (3,3), 0) #include a blur\n",
    "\n",
    "#foreground was white so we are going to take the inverse to get the objects!\n",
    "thresh = cv2.adaptiveThreshold(blur, 255, cv2.ADAPTIVE_THRESH_GAUSSIAN_C, cv2.THRESH_BINARY_INV, 205, 1)\n",
    "cv2.imshow('g', thresh)\n",
    "\n",
    "#now find the contours\n",
    "contours, hiearchy = cv2.findContours(thresh, cv2.RETR_TREE, cv2.CHAIN_APPROX_SIMPLE)\n",
    "print(len(contours))\n",
    "\n",
    "#filter the contours\n",
    "filtered = []\n",
    "for c in contours:\n",
    "    if cv2.contourArea(c) < 1000:\n",
    "        continue\n",
    "    else:\n",
    "        filtered.append(c)\n",
    "print(len(filtered))\n",
    "\n",
    "#so drawing is usually done by setting up a np.zeros array\n",
    "objects = np.zeros([img.shape[0], img.shape[1],3], 'uint8')\n",
    "for c in filtered:\n",
    "    col = (random.randint(0,255), random.randint(0,255), random.randint(0,255))\n",
    "    cv2.drawContours(objects, [c], -1, col, -1)\n",
    "    area = cv2.contourArea(c)\n",
    "    p = cv2.arcLength(c, True)\n",
    "    print(area,p)\n",
    "    \n",
    "cv2.imshow('contours', objects)\n",
    "\n",
    "cv2.waitKey(0)\n",
    "cv2.destroyAllWindows()"
   ]
  },
  {
   "cell_type": "code",
   "execution_count": null,
   "metadata": {},
   "outputs": [],
   "source": []
  }
 ],
 "metadata": {
  "kernelspec": {
   "display_name": "Python 3",
   "language": "python",
   "name": "python3"
  },
  "language_info": {
   "codemirror_mode": {
    "name": "ipython",
    "version": 3
   },
   "file_extension": ".py",
   "mimetype": "text/x-python",
   "name": "python",
   "nbconvert_exporter": "python",
   "pygments_lexer": "ipython3",
   "version": "3.8.5"
  }
 },
 "nbformat": 4,
 "nbformat_minor": 4
}
